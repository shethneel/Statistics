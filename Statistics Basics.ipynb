{
 "cells": [
  {
   "cell_type": "markdown",
   "id": "e5f7f969",
   "metadata": {},
   "source": [
    "# Let's play with some statistics"
   ]
  },
  {
   "cell_type": "markdown",
   "id": "ff284a4e",
   "metadata": {},
   "source": [
    "### Mean"
   ]
  },
  {
   "cell_type": "markdown",
   "id": "a140bc10",
   "metadata": {},
   "source": [
    "Mean = Sum of all observations / Total number of observations"
   ]
  },
  {
   "cell_type": "code",
   "execution_count": 1,
   "id": "c242d44e",
   "metadata": {},
   "outputs": [
    {
     "data": {
      "text/plain": [
       "array([1, 3, 5, 7, 9])"
      ]
     },
     "execution_count": 1,
     "metadata": {},
     "output_type": "execute_result"
    }
   ],
   "source": [
    "import numpy as np\n",
    "\n",
    "arr = np.array ([1,3,5,7,9])\n",
    "\n",
    "arr"
   ]
  },
  {
   "cell_type": "markdown",
   "id": "2a47c198",
   "metadata": {},
   "source": [
    "<b> First let do it hardcode"
   ]
  },
  {
   "cell_type": "code",
   "execution_count": 2,
   "id": "91401d02",
   "metadata": {},
   "outputs": [
    {
     "name": "stdout",
     "output_type": "stream",
     "text": [
      "5.0\n"
     ]
    }
   ],
   "source": [
    "mean = sum(arr)/len(arr)\n",
    "print (mean)"
   ]
  },
  {
   "cell_type": "markdown",
   "id": "4564fe06",
   "metadata": {},
   "source": [
    "<b>With numpy"
   ]
  },
  {
   "cell_type": "code",
   "execution_count": 3,
   "id": "dc14a366",
   "metadata": {},
   "outputs": [
    {
     "data": {
      "text/plain": [
       "5.0"
      ]
     },
     "execution_count": 3,
     "metadata": {},
     "output_type": "execute_result"
    }
   ],
   "source": [
    "np.mean(arr)"
   ]
  },
  {
   "cell_type": "markdown",
   "id": "990264aa",
   "metadata": {},
   "source": [
    "Let's assue that we want <b>weighted average</b> that means multiplying some values with elements of array\n",
    "\n",
    "like 1x1 + 3x2 + 5x3 + 7x4 + 9x5 and then want to find its MEAN"
   ]
  },
  {
   "cell_type": "code",
   "execution_count": 4,
   "id": "25b36e6b",
   "metadata": {},
   "outputs": [
    {
     "data": {
      "text/plain": [
       "6.333333333333333"
      ]
     },
     "execution_count": 4,
     "metadata": {},
     "output_type": "execute_result"
    }
   ],
   "source": [
    "w = np.array([1,2,3,4,5])\n",
    "\n",
    "np.average(arr, weights = w)"
   ]
  },
  {
   "cell_type": "markdown",
   "id": "76bafb99",
   "metadata": {},
   "source": [
    "<b> Let's talk about 2D array"
   ]
  },
  {
   "cell_type": "code",
   "execution_count": 5,
   "id": "763e9563",
   "metadata": {},
   "outputs": [],
   "source": [
    "arr1 = np.array([[1,3,5,7] , [2,4,6,8]])"
   ]
  },
  {
   "cell_type": "code",
   "execution_count": 6,
   "id": "9ce0640b",
   "metadata": {},
   "outputs": [
    {
     "data": {
      "text/plain": [
       "4.5"
      ]
     },
     "execution_count": 6,
     "metadata": {},
     "output_type": "execute_result"
    }
   ],
   "source": [
    "np.mean (arr1)"
   ]
  },
  {
   "cell_type": "code",
   "execution_count": 7,
   "id": "1a695325",
   "metadata": {},
   "outputs": [
    {
     "data": {
      "text/plain": [
       "array([[1, 3, 5, 7],\n",
       "       [2, 4, 6, 8]])"
      ]
     },
     "execution_count": 7,
     "metadata": {},
     "output_type": "execute_result"
    }
   ],
   "source": [
    "arr1"
   ]
  },
  {
   "cell_type": "markdown",
   "id": "967aa4c4",
   "metadata": {},
   "source": [
    "<b>We can even find mean row or column wise using axis"
   ]
  },
  {
   "cell_type": "code",
   "execution_count": 8,
   "id": "282007d6",
   "metadata": {},
   "outputs": [
    {
     "data": {
      "text/plain": [
       "array([4., 5.])"
      ]
     },
     "execution_count": 8,
     "metadata": {},
     "output_type": "execute_result"
    }
   ],
   "source": [
    "np.mean (arr1, axis = 1)"
   ]
  },
  {
   "cell_type": "code",
   "execution_count": 9,
   "id": "c2c9baa9",
   "metadata": {},
   "outputs": [
    {
     "data": {
      "text/plain": [
       "array([1.5, 3.5, 5.5, 7.5])"
      ]
     },
     "execution_count": 9,
     "metadata": {},
     "output_type": "execute_result"
    }
   ],
   "source": [
    "np.mean (arr1, axis = 0)"
   ]
  },
  {
   "cell_type": "markdown",
   "id": "870c836c",
   "metadata": {},
   "source": [
    "### Median"
   ]
  },
  {
   "cell_type": "markdown",
   "id": "a865b13d",
   "metadata": {},
   "source": [
    "If total number of elements/2 = 1, then formula will be <b>(n+1)/2</b> and <b>answer will be the seial number of element</b> that is meadian\n",
    "\n",
    "If total number of elements/2 = 1, then formula will be <b>(n/2th value) + (n/2+1th value)/2</b> and <b>answer will be the \n",
    "value it self</b> as median"
   ]
  },
  {
   "cell_type": "code",
   "execution_count": 10,
   "id": "71275211",
   "metadata": {},
   "outputs": [
    {
     "data": {
      "text/plain": [
       "array([[1, 3, 5, 7],\n",
       "       [2, 4, 6, 8]])"
      ]
     },
     "execution_count": 10,
     "metadata": {},
     "output_type": "execute_result"
    }
   ],
   "source": [
    "arr1"
   ]
  },
  {
   "cell_type": "code",
   "execution_count": 11,
   "id": "4734c38b",
   "metadata": {},
   "outputs": [
    {
     "data": {
      "text/plain": [
       "array([1, 3, 5, 7, 9])"
      ]
     },
     "execution_count": 11,
     "metadata": {},
     "output_type": "execute_result"
    }
   ],
   "source": [
    "arr"
   ]
  },
  {
   "cell_type": "code",
   "execution_count": 12,
   "id": "1e7944d0",
   "metadata": {},
   "outputs": [
    {
     "data": {
      "text/plain": [
       "5.0"
      ]
     },
     "execution_count": 12,
     "metadata": {},
     "output_type": "execute_result"
    }
   ],
   "source": [
    "np.median(arr)"
   ]
  },
  {
   "cell_type": "code",
   "execution_count": 13,
   "id": "b77ad2aa",
   "metadata": {},
   "outputs": [
    {
     "data": {
      "text/plain": [
       "4.5"
      ]
     },
     "execution_count": 13,
     "metadata": {},
     "output_type": "execute_result"
    }
   ],
   "source": [
    "np.median(arr1)"
   ]
  },
  {
   "cell_type": "markdown",
   "id": "8f0ed0fe",
   "metadata": {},
   "source": [
    "### Mode"
   ]
  },
  {
   "cell_type": "markdown",
   "id": "01459b72",
   "metadata": {},
   "source": [
    "Mode is nothing but <b>maximum occurance</b> of an element in array"
   ]
  },
  {
   "cell_type": "code",
   "execution_count": 14,
   "id": "c2bf2266",
   "metadata": {},
   "outputs": [],
   "source": [
    "arr2 = np.array([1,3,4,3,2,7,7,9,9,3,4])"
   ]
  },
  {
   "cell_type": "code",
   "execution_count": 15,
   "id": "67e05161",
   "metadata": {},
   "outputs": [
    {
     "data": {
      "text/plain": [
       "array([1, 3, 4, 3, 2, 7, 7, 9, 9, 3, 4])"
      ]
     },
     "execution_count": 15,
     "metadata": {},
     "output_type": "execute_result"
    }
   ],
   "source": [
    "arr2"
   ]
  },
  {
   "cell_type": "markdown",
   "id": "5e0c02d1",
   "metadata": {},
   "source": [
    "There is <b>no specific library</b> available like np.mode but we can use <b>counter module of collections library"
   ]
  },
  {
   "cell_type": "code",
   "execution_count": 16,
   "id": "ea925139",
   "metadata": {},
   "outputs": [],
   "source": [
    "from collections import Counter"
   ]
  },
  {
   "cell_type": "code",
   "execution_count": 17,
   "id": "2cb6eb4a",
   "metadata": {},
   "outputs": [],
   "source": [
    "count = Counter(arr2)"
   ]
  },
  {
   "cell_type": "code",
   "execution_count": 18,
   "id": "2be3c8f5",
   "metadata": {},
   "outputs": [
    {
     "data": {
      "text/plain": [
       "Counter({1: 1, 3: 3, 4: 2, 2: 1, 7: 2, 9: 2})"
      ]
     },
     "execution_count": 18,
     "metadata": {},
     "output_type": "execute_result"
    }
   ],
   "source": [
    "count"
   ]
  },
  {
   "cell_type": "code",
   "execution_count": 19,
   "id": "b8cad94a",
   "metadata": {},
   "outputs": [
    {
     "data": {
      "text/plain": [
       "[(3, 3)]"
      ]
     },
     "execution_count": 19,
     "metadata": {},
     "output_type": "execute_result"
    }
   ],
   "source": [
    "#To find maximum occurance of a number, Counter.most_common(Number of elements we want to find for max)\n",
    "\n",
    "count.most_common(1)"
   ]
  },
  {
   "cell_type": "code",
   "execution_count": 20,
   "id": "b50a709c",
   "metadata": {},
   "outputs": [
    {
     "data": {
      "text/plain": [
       "[(3, 3), (4, 2)]"
      ]
     },
     "execution_count": 20,
     "metadata": {},
     "output_type": "execute_result"
    }
   ],
   "source": [
    "count.most_common(2)"
   ]
  },
  {
   "cell_type": "markdown",
   "id": "0641321a",
   "metadata": {},
   "source": [
    "### Standard Deviation"
   ]
  },
  {
   "cell_type": "markdown",
   "id": "bdd5be3b",
   "metadata": {},
   "source": [
    "It is the <b>spread of the data</b> from the mean line or the <b>distance of a point</b> from the mean line"
   ]
  },
  {
   "cell_type": "markdown",
   "id": "8e82f09d",
   "metadata": {},
   "source": [
    "Formula for Standard Deviation is sqrt{ Sigma [ (Xi-X) ] ^2 / N} <br>\n",
    "Here, <br>\n",
    "Xi = Element / Number / Data <br>\n",
    "X = Mean <br>\n",
    "N = Total Number of elements"
   ]
  },
  {
   "cell_type": "code",
   "execution_count": 21,
   "id": "57c58dc8",
   "metadata": {},
   "outputs": [],
   "source": [
    "marks = np.array([7,3,5,9,1])"
   ]
  },
  {
   "cell_type": "markdown",
   "id": "b0ba34bc",
   "metadata": {},
   "source": [
    "Now let's find S.D. with proper formula"
   ]
  },
  {
   "cell_type": "code",
   "execution_count": 22,
   "id": "8f065795",
   "metadata": {},
   "outputs": [],
   "source": [
    "def Standard_dev (arr):\n",
    "    mean = arr.mean()\n",
    "    final_var = 0\n",
    "    for i in arr:\n",
    "        val = (i - mean)**2\n",
    "        final_var += val\n",
    "    return (final_var/len(arr))**0.5"
   ]
  },
  {
   "cell_type": "markdown",
   "id": "e687bf87",
   "metadata": {},
   "source": [
    "We multiplied it with 0.5 because the S.D. comes under roots which means its power is 1/2 = 0.5"
   ]
  },
  {
   "cell_type": "code",
   "execution_count": 23,
   "id": "b7cc715f",
   "metadata": {},
   "outputs": [
    {
     "data": {
      "text/plain": [
       "2.8284271247461903"
      ]
     },
     "execution_count": 23,
     "metadata": {},
     "output_type": "execute_result"
    }
   ],
   "source": [
    "Standard_dev (marks)"
   ]
  },
  {
   "cell_type": "code",
   "execution_count": null,
   "id": "79a81c30",
   "metadata": {},
   "outputs": [],
   "source": []
  }
 ],
 "metadata": {
  "kernelspec": {
   "display_name": "Python 3 (ipykernel)",
   "language": "python",
   "name": "python3"
  },
  "language_info": {
   "codemirror_mode": {
    "name": "ipython",
    "version": 3
   },
   "file_extension": ".py",
   "mimetype": "text/x-python",
   "name": "python",
   "nbconvert_exporter": "python",
   "pygments_lexer": "ipython3",
   "version": "3.9.12"
  }
 },
 "nbformat": 4,
 "nbformat_minor": 5
}
